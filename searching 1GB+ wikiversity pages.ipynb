{
 "cells": [
  {
   "cell_type": "markdown",
   "metadata": {},
   "source": [
    "# <a id=\"title\">`grep`ing 1 GB+ wikiversity-pages </a>\n",
    "\n",
    "\n",
    "| **[`wikiversity`](#wikiversity)**<br>\n",
    "| **[`SCOPE`](#scope)**<br>\n",
    "| **[`IMPLEMENTATION`](#implementation)** *[[How much data to scan?](#totallines)] <sup>[lazy-processing](#singleprocess), [multi-processing](#multiprocess)</sup>, [[Performance](#countingperformance)], [[`grep`'ing a target word](#greponeword)], [[Saving to CSV](#savingresults)]*<br>\n",
    "| **[`CONCLUSION`](#conclusion)**<br>\n",
    "| **[`REFERENCES`](#references)**<br>\n"
   ]
  },
  {
   "cell_type": "markdown",
   "metadata": {},
   "source": [
    "<br><br>\n",
    "\n",
    "## <a id=\"wikiversity\">[`wikiversity`](https://www.wikipedia.org/)</a>\n",
    "\n",
    "\n",
    "Now first, who hasn't heard of [`wikipedia`](https://www.wikipedia.org/)? <sup>It is hosted by [`Wikimedia Foundation`](https://wikimediafoundation.org/) that also sponsors a host of other wikimedia projects like wikiversity, wiktionary, wikibooks, and many others.</sup>\n",
    "<br>If you haven't, you will know it from now on. It's an expansive tome of crowd-sourced information maintained by volunteer contributors and editors. Anyone knowledgeable can contribute to wiki. Me, you, anyone who wishes to volunteer!\n",
    "\n",
    "\n",
    "I did mention wiki is an ever-growing expansive tome of innumerous articles!\n",
    "<br>If you think of each of wikis as an iceberg, I will be using just a tiny set of it's data. For this project purpose, I have randomly scraped articles from [`wikiversity`](https://en.wikiversity.org) in english worth over a GB (1 giga-bytes), all under a single `wikiversity` directory. They are saved as-is (raw html).\n",
    "\n",
    "Files were saved with the names at the end of the URL.\n",
    "<br>For example, if the URL is https://en.wikiversity.org/wiki/Big_Data/MapReduce, the article would be saved as MapReduce.html for simplicity.\n",
    "\n",
    "You might now be wondering what is `grep`ing? I will introduce it as you go through this page. For now, it's enough to know that it means searching in simple terms.\n",
    "<br>"
   ]
  },
  {
   "cell_type": "code",
   "execution_count": 1,
   "metadata": {},
   "outputs": [
    {
     "name": "stdout",
     "output_type": "stream",
     "text": [
      "Python 3.9.0 is in use.\n",
      "\n"
     ]
    }
   ],
   "source": [
    "python_version = !python --version\n",
    "\n",
    "print(f\"{python_version[0]} is in use.\", end='\\n\\n')"
   ]
  },
  {
   "cell_type": "code",
   "execution_count": 2,
   "metadata": {},
   "outputs": [
    {
     "name": "stdout",
     "output_type": "stream",
     "text": [
      "total 1.1G\r\n"
     ]
    }
   ],
   "source": [
    "data_folder = \"wikiversity\"\n",
    "\n",
    "!ls -lh {data_folder} > out.txt && head -n 1 < out.txt"
   ]
  },
  {
   "cell_type": "markdown",
   "metadata": {},
   "source": [
    "<br>1.1GB is comprised of about 20K files."
   ]
  },
  {
   "cell_type": "code",
   "execution_count": 3,
   "metadata": {},
   "outputs": [
    {
     "name": "stdout",
     "output_type": "stream",
     "text": [
      "20112\r\n"
     ]
    }
   ],
   "source": [
    "!ls {data_folder} | wc -l"
   ]
  },
  {
   "cell_type": "markdown",
   "metadata": {},
   "source": [
    "<br><br>\n",
    "\n",
    "## <a id=\"scope\"> SCOPE </a>\n",
    "The scope of this project is limited to simulating one small functionality of UNIX's `grep` utility.\n",
    "<br>What is `grep`?"
   ]
  },
  {
   "cell_type": "code",
   "execution_count": 4,
   "metadata": {},
   "outputs": [
    {
     "name": "stdout",
     "output_type": "stream",
     "text": [
      "DESCRIPTION\r\n",
      "       grep  searches  for  PATTERNS  in  each  FILE.  PATTERNS is one or more\r\n",
      "       patterns separated by newline characters, and  grep  prints  each  line\r\n",
      "       that  matches a pattern.  Typically PATTERNS should be quoted when grep\r\n",
      "       is used in a shell command.\r\n"
     ]
    }
   ],
   "source": [
    "!man grep > out.txt && head -n 15 < out.txt | tail -n 5"
   ]
  },
  {
   "cell_type": "markdown",
   "metadata": {},
   "source": [
    "More specifically, I will build on the functionality to search for the word in `wikiversity` folder including its location in the file (say, the line number)."
   ]
  },
  {
   "cell_type": "markdown",
   "metadata": {},
   "source": [
    "<br><br>\n",
    "\n",
    "## <a id=\"implementation\"> IMPLEMENTATION </a>\n",
    "You will be wondering how to search from such a huge input of files worth over 1+ GB?\n",
    "\n",
    "From what I'm aware of, there are two approaches to it:\n",
    "1. <a id=\"singleprocess\"> [Single process](#countingwithsingleprocess)</a> (*it is sequential and slower*) which I like to term ***lazy-processing***.\n",
    "2. <a id=\"multiprocess\"> [Multiple processes](#countingwithmultipleprocesses)</a> (this takes advantage of python's concurreny by forking multiple processes, and finally merging results) using [MapReduce](https://en.wikipedia.org/wiki/MapReduce) framework.\n",
    "<br>***Since mimicking grep's functionality is a `search` operation that is `CPU-intensive`, I will use python's `multiprocessing` framework.***\n",
    "\n",
    "<br>I will use both the options and plot to reveal how ***multiprocessing can empower***.\n",
    "<br>In addition, I will be deciding on how many cores to use based on how many processors my machine is equipped with. I will time processing times in each step. This will aid me choosing the optimal number of processes for multiprocessing.\n"
   ]
  },
  {
   "cell_type": "markdown",
   "metadata": {},
   "source": [
    "<br>\n",
    "\n",
    "## <a id=\"totallines\"> So, how much data to scan? </a>\n",
    "To give you a taste of how many lines will be searched in this 1+ GB worth of scraped data, I will implement a couple of helper functions. Feel free to skip straight to the plot for a complete visual."
   ]
  },
  {
   "cell_type": "code",
   "execution_count": 5,
   "metadata": {},
   "outputs": [
    {
     "name": "stdout",
     "output_type": "stream",
     "text": [
      "---- Sample files from the directory ----\n",
      "1 $100_bill.html\n",
      "2 $10_bill.html\n",
      "3 $1_bill.html\n",
      "4 $50_bill.html\n",
      "\n",
      "---- Sample content of $100_bill.html ----\n",
      "<!DOCTYPE html>\n",
      "<html class=\"client-nojs\" lang=\"en\" dir=\"ltr\">\n",
      "<head>\n",
      "<meta charset=\"UTF-8\"/>\n",
      "<title>United States currency/$100 bill - Wikiversity</title>\n",
      "\n"
     ]
    }
   ],
   "source": [
    "import os\n",
    "from time import time\n",
    "\n",
    "\n",
    "# List of file names from data directory\n",
    "file_names = os.listdir(data_folder)\n",
    "\n",
    "print(f\"---- Sample files from the directory ----\")\n",
    "for _ in range(4):\n",
    "    print(_+1, file_names[_])\n",
    "\n",
    "# Access the first file from the listing\n",
    "with open(os.path.join(data_folder, file_names[0])) as file:\n",
    "    lines = file.readlines()\n",
    "\n",
    "print()\n",
    "print(f\"---- Sample content of {file_names[0]} ----\")\n",
    "for line in lines[:5]:\n",
    "    print(line, end=\"\")\n",
    "\n",
    "\n",
    "print()"
   ]
  },
  {
   "cell_type": "code",
   "execution_count": 6,
   "metadata": {},
   "outputs": [],
   "source": [
    "# Track number of process workers and their combined performance\n",
    "process_performance = {}"
   ]
  },
  {
   "cell_type": "markdown",
   "metadata": {},
   "source": [
    "<br>\n",
    "\n",
    "### <a id=\"countingwithsingleprocess\"> *Counting with a single process* </a>"
   ]
  },
  {
   "cell_type": "code",
   "execution_count": 7,
   "metadata": {},
   "outputs": [
    {
     "name": "stdout",
     "output_type": "stream",
     "text": [
      "Counted 11,201,390 lines in a single process in 446.446s\n"
     ]
    }
   ],
   "source": [
    "# Using a single process (no multiprocessing involved here!)\n",
    "\n",
    "total_lines = []\n",
    "\n",
    "start = time()\n",
    "for file_name in file_names:\n",
    "    with open(os.path.join(data_folder, file_name), 'rb') as file:\n",
    "        total_lines.append(len(file.readlines()))\n",
    "end = time()\n",
    "\n",
    "\n",
    "process_performance[1] = round(end-start, 3)\n",
    "print(f\"Counted {sum(total_lines):,} lines in a single process in {end-start:.3f}s\")"
   ]
  },
  {
   "cell_type": "markdown",
   "metadata": {},
   "source": [
    "<br>\n",
    "\n",
    "### <a id=\"countingwithmultipleprocesses\"> *Counting with multiple processes* </a>"
   ]
  },
  {
   "cell_type": "code",
   "execution_count": 8,
   "metadata": {},
   "outputs": [],
   "source": [
    "# Heart of multiprocessing\n",
    "\n",
    "from math import ceil\n",
    "from functools import reduce\n",
    "from multiprocessing import Pool\n",
    "\n",
    "\n",
    "def data_chunkify(data, number_of_chunks):\n",
    "    \"\"\"Split data into chunks suitable for concurrency.\n",
    "       return: tuple-generator object that generates values on the fly\n",
    "               instead of passing a huge list of values.\n",
    "    \"\"\"\n",
    "    chunk_size = ceil(len(data) / number_of_chunks)\n",
    "    return (tuple(data[i:i+chunk_size]) for i in range(0, len(data), chunk_size))\n",
    "\n",
    "def map_reduce(data, num_of_workers, mapper, reducer):\n",
    "    \"\"\"MapReduce forks processes to process data chunks concurrently\"\"\"\n",
    "    chunks = data_chunkify(data, number_of_workers)\n",
    "    with Pool(processes=number_of_workers) as pool:\n",
    "        chunk_results = pool.map(mapper, chunks)\n",
    "    return reduce(reducer, chunk_results)\n"
   ]
  },
  {
   "cell_type": "markdown",
   "metadata": {},
   "source": [
    "<br>Note the use of **rb** mode in reading files, below.\n",
    "<br>\n",
    "<br>No need to encode because the purpose is just to count total lines.\n",
    "<br>No need to worry about the exact encoding as some web-scraped files are encoded in a different format."
   ]
  },
  {
   "cell_type": "code",
   "execution_count": 9,
   "metadata": {},
   "outputs": [],
   "source": [
    "# Map+Reduce target functions to count total lines that will be scanned for \"grep\"ing\n",
    "\n",
    "def mapper_line_count(file_names_chunk):\n",
    "    \"\"\"Mapping function to count lines\n",
    "       Actual total lines that will be scanned\"\"\"\n",
    "    line_count = []\n",
    "    for file_name in file_names_chunk:\n",
    "        with open(os.path.join(data_folder, file_name), 'rb') as file:\n",
    "            line_count.append(len(file.readlines()))\n",
    "    return sum(line_count)\n",
    "\n",
    "def reducer_line_count(line_count_1, line_count_2):\n",
    "    \"\"\"Reducer function to merge total lines\n",
    "       Combined actual total lines that will be scanned\"\"\"\n",
    "    return line_count_1 + line_count_2\n"
   ]
  },
  {
   "cell_type": "code",
   "execution_count": 10,
   "metadata": {},
   "outputs": [
    {
     "name": "stdout",
     "output_type": "stream",
     "text": [
      "Local setup is equipped with 8 logical processors.\n",
      "\n"
     ]
    }
   ],
   "source": [
    "# Logical processors my local setup provides\n",
    "number_of_workers = os.cpu_count()\n",
    "\n",
    "print(f\"Local setup is equipped with {number_of_workers} logical processors.\")\n",
    "print()\n"
   ]
  },
  {
   "cell_type": "code",
   "execution_count": 11,
   "metadata": {},
   "outputs": [
    {
     "name": "stdout",
     "output_type": "stream",
     "text": [
      "Counted 11,201,390 lines in 54.611s with 2 processes.\n",
      "\n"
     ]
    }
   ],
   "source": [
    "# Using 2 processes..\n",
    "number_of_workers = 2\n",
    "\n",
    "start = time()\n",
    "total_lines = map_reduce(file_names, number_of_workers, mapper_line_count, reducer_line_count)\n",
    "end = time()\n",
    "\n",
    "process_performance[number_of_workers] = round(end-start, 3)\n",
    "print(f\"Counted {total_lines:,} lines in {end-start:.3f}s with {number_of_workers} processes.\")\n",
    "print()\n"
   ]
  },
  {
   "cell_type": "code",
   "execution_count": 12,
   "metadata": {},
   "outputs": [
    {
     "name": "stdout",
     "output_type": "stream",
     "text": [
      "Counted 11,201,390 lines in 52.982s with 3 processes.\n",
      "\n"
     ]
    }
   ],
   "source": [
    "# Using 3 processes..\n",
    "number_of_workers = 3\n",
    "\n",
    "start = time()\n",
    "total_lines = map_reduce(file_names, number_of_workers, mapper_line_count, reducer_line_count)\n",
    "end = time()\n",
    "\n",
    "process_performance[number_of_workers] = round(end-start, 3)\n",
    "print(f\"Counted {total_lines:,} lines in {end-start:.3f}s with {number_of_workers} processes.\")\n",
    "print()\n"
   ]
  },
  {
   "cell_type": "code",
   "execution_count": 13,
   "metadata": {},
   "outputs": [
    {
     "name": "stdout",
     "output_type": "stream",
     "text": [
      "Counted 11,201,390 lines in 48.705s with 4 processes.\n",
      "\n"
     ]
    }
   ],
   "source": [
    "# Using half its capacity: 4 processes..\n",
    "number_of_workers = 4\n",
    "\n",
    "start = time()\n",
    "total_lines = map_reduce(file_names, number_of_workers, mapper_line_count, reducer_line_count)\n",
    "end = time()\n",
    "\n",
    "process_performance[number_of_workers] = round(end-start, 3)\n",
    "print(f\"Counted {total_lines:,} lines in {end-start:.3f}s with {number_of_workers} processes.\")\n",
    "print()\n"
   ]
  },
  {
   "cell_type": "code",
   "execution_count": 14,
   "metadata": {},
   "outputs": [
    {
     "name": "stdout",
     "output_type": "stream",
     "text": [
      "Counted 11,201,390 lines in 35.694s with 5 processes.\n",
      "\n"
     ]
    }
   ],
   "source": [
    "# Using 5 processes..\n",
    "number_of_workers = 5\n",
    "\n",
    "start = time()\n",
    "total_lines = map_reduce(file_names, number_of_workers, mapper_line_count, reducer_line_count)\n",
    "end = time()\n",
    "\n",
    "process_performance[number_of_workers] = round(end-start, 3)\n",
    "print(f\"Counted {total_lines:,} lines in {end-start:.3f}s with {number_of_workers} processes.\")\n",
    "print()\n"
   ]
  },
  {
   "cell_type": "code",
   "execution_count": 15,
   "metadata": {},
   "outputs": [
    {
     "name": "stdout",
     "output_type": "stream",
     "text": [
      "Counted 11,201,390 lines in 39.177s with 6 processes.\n",
      "\n"
     ]
    }
   ],
   "source": [
    "# Using 6 processes..\n",
    "number_of_workers = 6\n",
    "\n",
    "start = time()\n",
    "total_lines = map_reduce(file_names, number_of_workers, mapper_line_count, reducer_line_count)\n",
    "end = time()\n",
    "\n",
    "process_performance[number_of_workers] = round(end-start, 3)\n",
    "print(f\"Counted {total_lines:,} lines in {end-start:.3f}s with {number_of_workers} processes.\")\n",
    "print()\n"
   ]
  },
  {
   "cell_type": "code",
   "execution_count": 16,
   "metadata": {},
   "outputs": [
    {
     "name": "stdout",
     "output_type": "stream",
     "text": [
      "Counted 11,201,390 lines in 16.001s with 7 processes.\n",
      "\n"
     ]
    }
   ],
   "source": [
    "# Using 7 processes..\n",
    "number_of_workers = 7\n",
    "\n",
    "start = time()\n",
    "total_lines = map_reduce(file_names, number_of_workers, mapper_line_count, reducer_line_count)\n",
    "end = time()\n",
    "\n",
    "process_performance[number_of_workers] = round(end-start, 3)\n",
    "print(f\"Counted {total_lines:,} lines in {end-start:.3f}s with {number_of_workers} processes.\")\n",
    "print()\n"
   ]
  },
  {
   "cell_type": "code",
   "execution_count": 17,
   "metadata": {},
   "outputs": [
    {
     "name": "stdout",
     "output_type": "stream",
     "text": [
      "Counted 11,201,390 lines in 31.530s with 8 processes.\n",
      "\n"
     ]
    }
   ],
   "source": [
    "# Using 8 processes my local setup provides..\n",
    "number_of_workers = os.cpu_count()\n",
    "\n",
    "start = time()\n",
    "total_lines = map_reduce(file_names, number_of_workers, mapper_line_count, reducer_line_count)\n",
    "end = time()\n",
    "\n",
    "process_performance[number_of_workers] = round(end-start, 3)\n",
    "print(f\"Counted {total_lines:,} lines in {end-start:.3f}s with {number_of_workers} processes.\")\n",
    "print()\n"
   ]
  },
  {
   "cell_type": "code",
   "execution_count": 18,
   "metadata": {},
   "outputs": [
    {
     "name": "stdout",
     "output_type": "stream",
     "text": [
      "Counted 11,201,390 lines in 37.517s with 16 processes.\n",
      "\n"
     ]
    }
   ],
   "source": [
    "# I will double its capacity assuming I'm unaware of local setup: 16 processes\n",
    "number_of_workers = 16\n",
    "\n",
    "start = time()\n",
    "total_lines = map_reduce(file_names, number_of_workers, mapper_line_count, reducer_line_count)\n",
    "end = time()\n",
    "\n",
    "process_performance[number_of_workers] = round(end-start, 3)\n",
    "print(f\"Counted {total_lines:,} lines in {end-start:.3f}s with {number_of_workers} processes.\")\n",
    "print()\n"
   ]
  },
  {
   "cell_type": "markdown",
   "metadata": {},
   "source": [
    "<br>\n",
    "\n",
    "### <a id=\"countingperformance\"> Counting lines : Performance </a>\n",
    "Here's a picture of their performance:"
   ]
  },
  {
   "cell_type": "code",
   "execution_count": 29,
   "metadata": {},
   "outputs": [],
   "source": [
    "import matplotlib.pyplot as plt\n",
    "\n",
    "\n",
    "def plot(data,\n",
    "         figsize,\n",
    "         title,\n",
    "         legend,\n",
    "         xlabel,\n",
    "         ylabel):\n",
    "    \n",
    "    plt.style.use(\"seaborn-poster\")\n",
    "    fig = plt.figure(figsize=figsize)\n",
    "    \n",
    "    plt.plot(data.keys(),\n",
    "             [round(d,1) for d in data.values()],\n",
    "             'ro',\n",
    "             markersize=12,\n",
    "             label=legend)\n",
    "    plt.xlim(min(data)-1, max(data)+1)\n",
    "    plt.ylim(0, round(max(data.values())))\n",
    "    plt.xlabel(xlabel, fontsize=12, color='gray', labelpad=10)\n",
    "    plt.ylabel(ylabel, fontsize=12, color='gray')\n",
    "    \n",
    "    ax = fig.get_axes()[0]\n",
    "    [ax.spines[spine].set_visible(True if spine == 'bottom' else False) for spine in ax.spines]\n",
    "\n",
    "    ax.set_xticks([0] + list(data))\n",
    "\n",
    "    y_max = ax.get_yticks()[-1]\n",
    "    ax.yaxis.set_ticklabels([])\n",
    "    ax.yaxis.set_ticks([])\n",
    "\n",
    "    ax.axhline(min(data.values()), linewidth=1.5, color='red', alpha=0.7)\n",
    "    ax.text(1+0.2, max(data.values())-20, '$single$ $process$', color='gray', fontsize=10)\n",
    "    ax.text(11, min(data.values())+5, '$good$ $performance$', color='gray', fontsize=12)\n",
    "    for x, y in data.items():\n",
    "        ax.axvline(x,\n",
    "                   ymin=0,\n",
    "                   ymax=y/y_max,\n",
    "                   linewidth=1.7,\n",
    "                   color=('blue' if y < max(data.values()) else 'gray'),\n",
    "                   dashes=(1,1))\n",
    "        ax.text(x+0.15, y+8 if y < 100 else y-5, f\"{y:.1f}\")\n",
    "\n",
    "    plt.title(title, fontsize=20, fontweight=\"bold\", pad=10)\n",
    "    ax.legend(edgecolor='white', fontsize=10)\n",
    "\n",
    "    plt.show()\n"
   ]
  },
  {
   "cell_type": "code",
   "execution_count": 30,
   "metadata": {},
   "outputs": [
    {
     "name": "stdout",
     "output_type": "stream",
     "text": [
      "\n"
     ]
    },
    {
     "data": {
      "image/png": "[encoded data removed]",
      "text/plain": [
       "<Figure size 720x504 with 1 Axes>"
      ]
     },
     "metadata": {
      "needs_background": "light"
     },
     "output_type": "display_data"
    }
   ],
   "source": [
    "print()\n",
    "\n",
    "plot(process_performance,\n",
    "     figsize=(10,7),\n",
    "     title=\"Multiple processes benefit CPU-intensive tasks\",\n",
    "     legend=\"$seconds$\",\n",
    "     xlabel=\"PROCESSES AT WORK\",\n",
    "     ylabel=\"PROCESSING TIME\");\n"
   ]
  },
  {
   "cell_type": "markdown",
   "metadata": {},
   "source": [
    "As you can see, using multiple processes can cut down processing time by atleast 8 - 27 times over a single process.\n",
    "\n",
    "<br>***Although my local setup provides upto 8 logical cores/processors, I feel it's pointless to use processes beyond 8 as it only adds to memory overhead as the states of each process needs to be maintained.***"
   ]
  },
  {
   "cell_type": "markdown",
   "metadata": {},
   "source": [
    "<br><br>\n",
    "\n",
    "## <a id=\"greponeword\"> `grep`'ing a target word </a>\n",
    "In this section, I will be implementing a **case-insensitive 1-word search** that tracks the line numbers in the file where the matches were found."
   ]
  },
  {
   "cell_type": "code",
   "execution_count": 31,
   "metadata": {},
   "outputs": [],
   "source": [
    "# Search word\n",
    "grep_word = rb'uNITEd StATEs OF AMeriCa'\n",
    "\n",
    "# Search results dictionary \n",
    "grep_result = {}\n"
   ]
  },
  {
   "cell_type": "markdown",
   "metadata": {},
   "source": [
    "<br>Note the use of **rb** mode in reading files in this scenario as well.\n",
    "<br>\n",
    "<br>No need to encode because **re** module provides a cool feature to compile the search string into bytes which can be used to search directly in a bytes object (in this case, the file contents)."
   ]
  },
  {
   "cell_type": "code",
   "execution_count": 32,
   "metadata": {},
   "outputs": [],
   "source": [
    "# Map+Reduce target functions for word search\n",
    "\n",
    "import re\n",
    "from collections import ChainMap\n",
    "\n",
    "\n",
    "grep_word_compiled = re.compile(grep_word, re.I)\n",
    "grep_newline = re.compile(rb'\\n')\n",
    "\n",
    "\n",
    "def mapper_grep_word(file_names_chunk):\n",
    "    \"\"\"Mapping function for word search\"\"\"\n",
    "    result_dict = {}\n",
    "    for file_name in file_names_chunk:\n",
    "        with open(os.path.join(data_folder, file_name), 'rb') as file:\n",
    "            file_read = file.read()\n",
    "            match = tuple(fi.start() for fi in re.finditer(grep_word_compiled, file_read))\n",
    "            if match:\n",
    "                result_dict[file_name] = tuple(len(re.findall(grep_newline, file_read[:index_end])) \n",
    "                                               for index_end in match)\n",
    "    return result_dict\n",
    "\n",
    "def reducer_grep_word(grep_result_1, grep_result_2):\n",
    "    \"\"\"Reducer function for word search\"\"\"\n",
    "    return ChainMap(grep_result_1, grep_result_2)\n"
   ]
  },
  {
   "cell_type": "code",
   "execution_count": 33,
   "metadata": {},
   "outputs": [
    {
     "name": "stdout",
     "output_type": "stream",
     "text": [
      "grep'd in 21.640s with 7 processes.\n"
     ]
    }
   ],
   "source": [
    "# Using optimal number of processes based on the first graph..\n",
    "process_performance_T = {t: p for p, t in process_performance.items()}\n",
    "number_of_workers = process_performance_T[min(process_performance_T)]\n",
    "\n",
    "\n",
    "start = time()\n",
    "grep_result = map_reduce(file_names, number_of_workers, mapper_grep_word, reducer_grep_word)\n",
    "end = time()\n",
    "\n",
    "\n",
    "# process_performance[number_of_workers] = round(end-start, 3)\n",
    "print(f\"grep'd in {end-start:.3f}s with {number_of_workers} processes.\")\n"
   ]
  },
  {
   "cell_type": "code",
   "execution_count": 34,
   "metadata": {},
   "outputs": [
    {
     "name": "stdout",
     "output_type": "stream",
     "text": [
      "173\n"
     ]
    }
   ],
   "source": [
    "print(len(grep_result))"
   ]
  },
  {
   "cell_type": "code",
   "execution_count": 35,
   "metadata": {},
   "outputs": [
    {
     "name": "stdout",
     "output_type": "stream",
     "text": [
      "Temperature_and_mood.html:    match(1)  @lines:(619,)\n",
      "Test_of_term.html:    match(2)  @lines:(403, 403)\n",
      "The_Buzz_on_Maggie.html:    match(1)  @lines:(47,)\n",
      "The_Effect_of_Animal_Cruelty_Allegations_in_Sport.html:    match(1)  @lines:(124,)\n",
      "The_Great_American_Paradox.html:    match(2)  @lines:(91, 158)\n",
      "The_Hippocampus.html:    match(3)  @lines:(671, 747, 807)\n",
      "The_United_States_of_America_is_a_country_composed_of_50_states,_a_federal_district,_five_major_self-governing_territories,_and_various_possessions.html:    match(5)  @lines:(4, 5, 18, 39, 59)\n",
      "The_United_States_of_America_is_a_vast_country.html:    match(6)  @lines:(4, 5, 18, 39, 59, 285)\n",
      "The_US_Civil_War.html:    match(1)  @lines:(49,)\n",
      "The_Year_of_the_Elephant.html:    match(1)  @lines:(372,)\n",
      "Timeline_and_radiance.html:    match(2)  @lines:(1217, 1219)\n"
     ]
    }
   ],
   "source": [
    "# File names with line numbers (Note that the first line is numbered 0, and not 1)\n",
    "for _, grep_rec in enumerate(grep_result.items()):\n",
    "    print(f\"{grep_rec[0]}:    match({len(grep_rec[1])})  @lines:{grep_rec[1]}\")\n",
    "    if _ == 10:\n",
    "        break\n"
   ]
  },
  {
   "cell_type": "markdown",
   "metadata": {},
   "source": [
    "<br><br>\n",
    "\n",
    "## <a id=\"savingresults\"> Saving results to CSV </a>\n",
    "Now that the matched file and locations are identified, I would like to save the results to a CSV along with the complete line that contained the matching text."
   ]
  },
  {
   "cell_type": "code",
   "execution_count": 36,
   "metadata": {},
   "outputs": [],
   "source": [
    "# Separate directory for grep results\n",
    "results_folder = \"search_results\"\n",
    "\n",
    "os.makedirs(results_folder, exist_ok=True)\n"
   ]
  },
  {
   "cell_type": "code",
   "execution_count": 37,
   "metadata": {},
   "outputs": [
    {
     "name": "stdout",
     "output_type": "stream",
     "text": [
      "grep'd results in 1.986s with 7 processes into grep_uNITEdStATEsOFAMeriCa.csv.\n",
      "\n"
     ]
    }
   ],
   "source": [
    "from csv import writer\n",
    "\n",
    "\n",
    "grep_target_file = f\"grep_{''.join(c for c in grep_word.decode('utf-8') if c.isalnum())}.csv\"\n",
    "\n",
    "start = time()\n",
    "with open(os.path.join(results_folder, grep_target_file), 'w') as grep_file:\n",
    "    grep_writer = writer(grep_file)\n",
    "    grep_write_rows = [[\"file_name\", \"match_on_line\", \"line_content\"]]\n",
    "    for file_name, lines in grep_result.items():\n",
    "        with open(os.path.join(data_folder, file_name)) as file_read:\n",
    "            file_contents = file_read.readlines()\n",
    "\n",
    "            # Smart Write: write one line even if there are multiple matches on the same line\n",
    "            for index in tuple(sorted(set(lines))):\n",
    "                grep_write_rows.append([file_name, index, file_contents[index]])\n",
    "    grep_writer.writerows(grep_write_rows)\n",
    "end = time()\n",
    "\n",
    "print(f\"grep'd results in {end-start:.3f}s with {number_of_workers} processes into {grep_target_file}.\")\n",
    "print()\n"
   ]
  },
  {
   "cell_type": "code",
   "execution_count": 38,
   "metadata": {},
   "outputs": [
    {
     "name": "stdout",
     "output_type": "stream",
     "text": [
      "-rwxrwxrwx 1 vdigsdata vdigsdata 215K Mar 23 11:24 search_results/grep_uNITEdStATEsOFAMeriCa.csv\n",
      "\n"
     ]
    }
   ],
   "source": [
    "!ls -lh {results_folder}/*\n",
    "\n",
    "print()"
   ]
  },
  {
   "cell_type": "code",
   "execution_count": 39,
   "metadata": {},
   "outputs": [
    {
     "name": "stdout",
     "output_type": "stream",
     "text": [
      "Bennie_Amerson.html,107,\"<li id=\"\"cite_note-8\"\"><span class=\"\"mw-cite-backlink\"\"><a href=\"\"#cite_ref-8\"\">↑</a></span> <span class=\"\"reference-text\"\">United States of America. Center for Disease Control and Prevention. Department of Health and Human Services. One Hundred Years of Federal Mining Safety and Health Research. By John A. Breslin. Pittsburgh, PA: Department of Health and Human Services, Centers for Disease Control and Prevention, National Institute for Occupational Safety and Health, Pittsburgh Research Laboratory, 2010. 23-24.</span>\n",
      "\"\n",
      "Bernie_Turner.html,93,\"<li id=\"\"cite_note-1\"\"><span class=\"\"mw-cite-backlink\"\"><a href=\"\"#cite_ref-1\"\">↑</a></span> <span class=\"\"reference-text\"\">Cross, Mark. “Life and Death During the Great Depression,” Proceedings of the National Academy of Sciences of the United States of America (18 August 2009): 106, 41. Accessed 16 October 2015. <a rel=\"\"nofollow\"\" class=\"\"external free\"\" href=\"\"http://www.pnas.org/content/106/41/17290.full\"\">http://www.pnas.org/content/106/41/17290.full</a> </span>\n",
      "\"\n",
      "Bernie_Turner.html,97,\"<li id=\"\"cite_note-3\"\"><span class=\"\"mw-cite-backlink\"\"><a href=\"\"#cite_ref-3\"\">↑</a></span> <span class=\"\"reference-text\"\">Cross, Mark. “Life and Death During the Great Depression,” Proceedings of the National Academy of Sciences of the United States of America (18 August 2009): 106, 41. Accessed 16 October 2015. <a rel=\"\"nofollow\"\" class=\"\"external free\"\" href=\"\"http://www.pnas.org/content/106/41/17290.full\"\">http://www.pnas.org/content/106/41/17290.full</a> </span>\n",
      "\"\n",
      "Bernie_Turner.html,99,\"<li id=\"\"cite_note-4\"\"><span class=\"\"mw-cite-backlink\"\"><a href=\"\"#cite_ref-4\"\">↑</a></span> <span class=\"\"reference-text\"\">Cross, Mark. “Life and Death During the Great Depression,” Proceedings of the National Academy of Sciences of the United States of America (18 August 2009): 106, 41. Accessed 16 October 2015. <a rel=\"\"nofollow\"\" class=\"\"external free\"\" href=\"\"http://www.pnas.org/content/106/41/17290.full\"\">http://www.pnas.org/content/106/41/17290.full</a> </span>\n",
      "\"\n",
      "Bias_to_action.html,322,\"</p><p>Robbins, M. (2017). <i>The 5 Second Rule: Transform Your Life, Work, and Confidence with Everyday Courage</i>. United States of America: Savio Republic.\n",
      "\"\n",
      "\n"
     ]
    }
   ],
   "source": [
    "!tail {results_folder}/grep_uNITEdStATEsOFAMeriCa.csv\n",
    "\n",
    "print()"
   ]
  },
  {
   "cell_type": "code",
   "execution_count": 40,
   "metadata": {},
   "outputs": [],
   "source": [
    "plt.close('all')"
   ]
  },
  {
   "cell_type": "markdown",
   "metadata": {},
   "source": [
    "<br><br>\n",
    "\n",
    "## <a id=\"conclusion\"> CONCLUSION </a>\n",
    "Most of the computers these days are equipped with multiple cores. Depending on the kind of job on hand, one should make a conscious decision on taking advantage of this functionality. Even with just 2 processes in parallel, one can cut down the time by half.\n",
    "<br>With the need I had, we have seen that forking multiple processes can speed-up the process multi-fold and should be definitely be exploited."
   ]
  },
  {
   "cell_type": "markdown",
   "metadata": {},
   "source": [
    "<br><br>\n",
    "\n",
    "## <a id=references> REFERENCE </a>\n",
    "If you're wondering about random wiki pages, [click this link a couple of times](https://en.wikiversity.org/wiki/Special:Random). What articles did it launch? Surprised?\n",
    "It's a functionality `wiki` provides that you too can take advantage of."
   ]
  }
 ],
 "metadata": {
  "kernelspec": {
   "display_name": "Python 3",
   "language": "python",
   "name": "python3"
  },
  "language_info": {
   "codemirror_mode": {
    "name": "ipython",
    "version": 3
   },
   "file_extension": ".py",
   "mimetype": "text/x-python",
   "name": "python",
   "nbconvert_exporter": "python",
   "pygments_lexer": "ipython3",
   "version": "3.9.0"
  }
 },
 "nbformat": 4,
 "nbformat_minor": 4
}
